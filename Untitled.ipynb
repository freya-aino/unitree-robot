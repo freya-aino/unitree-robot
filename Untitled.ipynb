{
 "cells": [
  {
   "cell_type": "code",
   "execution_count": 4,
   "id": "4c4bbccf-436b-4548-acfa-87a4a0dae158",
   "metadata": {},
   "outputs": [],
   "source": [
    "import brax.io as io\n",
    "from pathlib import Path"
   ]
  },
  {
   "cell_type": "code",
   "execution_count": 5,
   "id": "ff267363-4a83-4872-8b87-6527160c1efc",
   "metadata": {},
   "outputs": [
    {
     "data": {
      "text/plain": [
       "PosixPath('/home/fey/programming/unitree-robot/external/files/Go2/go2.xml')"
      ]
     },
     "execution_count": 5,
     "metadata": {},
     "output_type": "execute_result"
    }
   ],
   "source": [
    "mjcf_file_path = Path(\"external/files/Go2/go2.xml\").resolve()\n",
    "mjcf_file_path"
   ]
  },
  {
   "cell_type": "code",
   "execution_count": 6,
   "id": "3edda472-9acb-4e11-ad19-a4fc1d3c8ecf",
   "metadata": {},
   "outputs": [
    {
     "ename": "AttributeError",
     "evalue": "module 'brax.io' has no attribute 'mjcf'",
     "output_type": "error",
     "traceback": [
      "\u001b[0;31m---------------------------------------------------------------------------\u001b[0m",
      "\u001b[0;31mAttributeError\u001b[0m                            Traceback (most recent call last)",
      "Cell \u001b[0;32mIn[6], line 1\u001b[0m\n\u001b[0;32m----> 1\u001b[0m \u001b[43mio\u001b[49m\u001b[38;5;241;43m.\u001b[39;49m\u001b[43mmjcf\u001b[49m(mjcf_file_path)\n",
      "\u001b[0;31mAttributeError\u001b[0m: module 'brax.io' has no attribute 'mjcf'"
     ]
    }
   ],
   "source": [
    "io."
   ]
  }
 ],
 "metadata": {
  "kernelspec": {
   "display_name": "Python 3 (ipykernel)",
   "language": "python",
   "name": "python3"
  },
  "language_info": {
   "codemirror_mode": {
    "name": "ipython",
    "version": 3
   },
   "file_extension": ".py",
   "mimetype": "text/x-python",
   "name": "python",
   "nbconvert_exporter": "python",
   "pygments_lexer": "ipython3",
   "version": "3.10.18"
  }
 },
 "nbformat": 4,
 "nbformat_minor": 5
}
