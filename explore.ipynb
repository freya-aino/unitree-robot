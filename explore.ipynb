{
 "cells": [
  {
   "cell_type": "code",
   "execution_count": 1,
   "id": "f53869eb-1330-4c72-ad47-3860d9706347",
   "metadata": {
    "ExecuteTime": {
     "end_time": "2025-10-28T15:59:01.246568Z",
     "start_time": "2025-10-28T15:59:01.204202Z"
    },
    "scrolled": true
   },
   "outputs": [],
   "source": [
    "from unitree_robot.train.environments import MujocoEnv, Go2Env\n",
    "from unitree_robot.train.training import Trainer\n",
    "from unitree_robot.train.experiments import Experiment\n",
    "\n",
    "from gymnasium.spaces import Space\n",
    "import numpy as np\n",
    "import quaternion\n",
    "\n",
    "import torch as T"
   ]
  },
  {
   "cell_type": "code",
   "execution_count": 2,
   "id": "0abfd262-553c-4e46-9b26-bdea3763b4d4",
   "metadata": {},
   "outputs": [
    {
     "name": "stdout",
     "output_type": "stream",
     "text": [
      "Trainer: device set to cpu !\n"
     ]
    }
   ],
   "source": [
    "MJCF_PATH = \"./external/mujoco_mangerie/unitree_go2/scene-flat-ground.xml\"\n",
    "SEED = 0\n",
    "\n",
    "np.random.seed(seed=SEED)\n",
    "\n",
    "env = Go2Env(\n",
    "    model_path=MJCF_PATH,\n",
    "    sim_frames_per_step=5,\n",
    "    seed=SEED,\n",
    "    experiment=Experiment()\n",
    ")\n",
    "\n",
    "obs = env.reset(seed=SEED)\n",
    "\n",
    "env.model.camera(\"main\").pos = np.array([1, 1, 3])\n",
    "\n",
    "trainer = Trainer(\n",
    "    env=env,\n",
    "    device=\"cpu\",\n",
    "    network_hidden_size=16,\n",
    ")"
   ]
  },
  {
   "cell_type": "code",
   "execution_count": 3,
   "id": "ba2a9e9f-da20-48d8-adc6-b484dde0fea3",
   "metadata": {},
   "outputs": [
    {
     "ename": "TypeError",
     "evalue": "Experiment.calculate_loss() takes 1 positional argument but 2 were given",
     "output_type": "error",
     "traceback": [
      "\u001b[1;31m---------------------------------------------------------------------------\u001b[0m",
      "\u001b[1;31mTypeError\u001b[0m                                 Traceback (most recent call last)",
      "Cell \u001b[1;32mIn[3], line 1\u001b[0m\n\u001b[1;32m----> 1\u001b[0m \u001b[43mtrainer\u001b[49m\u001b[38;5;241;43m.\u001b[39;49m\u001b[43mtrain\u001b[49m\u001b[43m(\u001b[49m\u001b[43m)\u001b[49m\n",
      "File \u001b[1;32mC:\\programming\\unitree-robot\\unitree_robot\\train\\training.py:274\u001b[0m, in \u001b[0;36mTrainer.train\u001b[1;34m(self, epochs, batch_size, unroll_length, sim_steps_per_step, progress_fn)\u001b[0m\n\u001b[0;32m    272\u001b[0m \u001b[38;5;28mself\u001b[39m\u001b[38;5;241m.\u001b[39menv\u001b[38;5;241m.\u001b[39mreset()\n\u001b[0;32m    273\u001b[0m action \u001b[38;5;241m=\u001b[39m T\u001b[38;5;241m.\u001b[39mzeros(\u001b[38;5;28mself\u001b[39m\u001b[38;5;241m.\u001b[39maction_space_shape)\u001b[38;5;241m.\u001b[39mto(\u001b[38;5;28mself\u001b[39m\u001b[38;5;241m.\u001b[39mdevice)\n\u001b[1;32m--> 274\u001b[0m \u001b[38;5;28;43mself\u001b[39;49m\u001b[38;5;241;43m.\u001b[39;49m\u001b[43menv\u001b[49m\u001b[38;5;241;43m.\u001b[39;49m\u001b[43mstep\u001b[49m\u001b[43m(\u001b[49m\u001b[43maction\u001b[49m\u001b[43m,\u001b[49m\u001b[43m \u001b[49m\u001b[43mn_frames\u001b[49m\u001b[38;5;241;43m=\u001b[39;49m\u001b[43msim_steps_per_step\u001b[49m\u001b[43m)\u001b[49m\n\u001b[0;32m    276\u001b[0m \u001b[38;5;28mself\u001b[39m\u001b[38;5;241m.\u001b[39munroll_length \u001b[38;5;241m=\u001b[39m unroll_length\n\u001b[0;32m    278\u001b[0m sps \u001b[38;5;241m=\u001b[39m \u001b[38;5;241m0\u001b[39m\n",
      "File \u001b[1;32mC:\\programming\\unitree-robot\\unitree_robot\\train\\environments.py:174\u001b[0m, in \u001b[0;36mMujocoEnv.step\u001b[1;34m(self, action, n_frames)\u001b[0m\n\u001b[0;32m    172\u001b[0m \u001b[38;5;28;01mdef\u001b[39;00m\u001b[38;5;250m \u001b[39m\u001b[38;5;21mstep\u001b[39m(\u001b[38;5;28mself\u001b[39m, action: Any, n_frames: \u001b[38;5;28mint\u001b[39m):\n\u001b[0;32m    173\u001b[0m     \u001b[38;5;28mself\u001b[39m\u001b[38;5;241m.\u001b[39mdo_simulation(ctrl\u001b[38;5;241m=\u001b[39maction, n_frames\u001b[38;5;241m=\u001b[39mn_frames)\n\u001b[1;32m--> 174\u001b[0m     \u001b[38;5;28;01mreturn\u001b[39;00m \u001b[38;5;28;43mself\u001b[39;49m\u001b[38;5;241;43m.\u001b[39;49m\u001b[43mexperiment\u001b[49m\u001b[38;5;241;43m.\u001b[39;49m\u001b[43mcalculate_loss\u001b[49m\u001b[43m(\u001b[49m\u001b[38;5;28;43mself\u001b[39;49m\u001b[38;5;241;43m.\u001b[39;49m\u001b[43mdata\u001b[49m\u001b[43m)\u001b[49m\n",
      "\u001b[1;31mTypeError\u001b[0m: Experiment.calculate_loss() takes 1 positional argument but 2 were given"
     ]
    }
   ],
   "source": [
    "trainer.train()"
   ]
  },
  {
   "cell_type": "code",
   "execution_count": 7,
   "id": "f13ef4cf-a2b2-468e-83c7-7408bcb7ca29",
   "metadata": {},
   "outputs": [
    {
     "name": "stdout",
     "output_type": "stream",
     "text": [
      "[  0.           0.           0.           0.           0.\n",
      "   0.          21.51800728   1.08320487 -15.23073578 -20.95428658\n",
      "   7.59899855  -7.06027222  -2.25599885   9.46981525  18.9301548\n",
      "  -9.26308441 -10.14897442 -30.14691353]\n",
      "[-117.39896548  -49.82367398  127.53397816    2.4460084    14.14363298\n",
      "  -19.53449438   -0.2           0.2           0.2          19.06774943\n",
      "   -0.2           0.2           0.2          -0.13471311   -0.2\n",
      "    0.2           0.2           0.2       ]\n"
     ]
    }
   ],
   "source": [
    "try:\n",
    "    i = 0\n",
    "    while True:\n",
    "        \n",
    "        action = env.action_space.sample()\n",
    "        env.do_simulation(ctrl=action, n_frames=5)\n",
    "\n",
    "        env.render(cam_offset=np.array([1,1,5]))\n",
    "\n",
    "        # print(env.data.qfrc_actuator)\n",
    "        \n",
    "        i += 1\n",
    "        \n",
    "except Exception as e:\n",
    "    raise e\n",
    "finally:\n",
    "    env.close()"
   ]
  },
  {
   "cell_type": "code",
   "execution_count": null,
   "id": "78f5c6db-c417-4f9d-adb6-6397db011c89",
   "metadata": {},
   "outputs": [],
   "source": []
  },
  {
   "cell_type": "code",
   "execution_count": 9,
   "id": "e6460ad1-5960-49fe-b146-6e85ab55eed0",
   "metadata": {},
   "outputs": [
    {
     "data": {
      "text/plain": [
       "<mujoco._structs.MjData at 0x2b5a63c05b0>"
      ]
     },
     "execution_count": 9,
     "metadata": {},
     "output_type": "execute_result"
    }
   ],
   "source": [
    "from unitree_robot.train.environments import lookat\n",
    "\n",
    "\n",
    "target = env.data.cam(\"main\").xpos + np.array([0, 0, -1])\n",
    "target\n",
    "\n",
    "# lookat(env.data.cam(\"main\").xpos, target)\n"
   ]
  },
  {
   "cell_type": "code",
   "execution_count": 2,
   "id": "4c7c2db8-3e06-4548-b469-8e55a5b4e3f4",
   "metadata": {},
   "outputs": [],
   "source": [
    "# env.action_space\n",
    "\n",
    "# len(env.data.qpos)\n",
    "\n",
    "# env.data.(\"imu_quat\")\n",
    "\n",
    "\n",
    "# q_rotate = quaternion.as_quat_array(env.data.sensor(\"imu_quat\").data)\n",
    "# quaternion.rotate_vectors(q_rotate, np.array([0,0,1]))\n",
    "# (np.array([1, 0, 0]))\n",
    "\n",
    "\n",
    "\n",
    "\n",
    "# env.get_sensor_state()\n",
    "\n",
    "# env.data.xquat.shape"
   ]
  }
 ],
 "metadata": {
  "kernelspec": {
   "display_name": "Python 3 (ipykernel)",
   "language": "python",
   "name": "python3"
  },
  "language_info": {
   "codemirror_mode": {
    "name": "ipython",
    "version": 3
   },
   "file_extension": ".py",
   "mimetype": "text/x-python",
   "name": "python",
   "nbconvert_exporter": "python",
   "pygments_lexer": "ipython3",
   "version": "3.10.18"
  }
 },
 "nbformat": 4,
 "nbformat_minor": 5
}
