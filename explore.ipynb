{
 "cells": [
  {
   "cell_type": "code",
   "execution_count": 1,
   "id": "5cf4765c-f485-4190-a7df-ad5c3eb03152",
   "metadata": {},
   "outputs": [],
   "source": [
    "from unitree_robot.train.environments import MujocoEnv\n",
    "from gymnasium.spaces import Space\n",
    "import numpy as np\n",
    "\n",
    "MJCF_PATH = \"./external/mjcf-robot-files/go2/scene.xml\"\n",
    "\n",
    "env = MujocoEnv(\n",
    "    MJCF_PATH,\n",
    "    sim_frames_per_step=5,\n",
    "    observation_space=Space(\n",
    "        shape=[24], # TODO: change\n",
    "        dtype=np.float32,\n",
    "    ),\n",
    ")"
   ]
  },
  {
   "cell_type": "code",
   "execution_count": 15,
   "id": "d6d10c7d-3ea5-4442-b6bd-03a2df6e30b9",
   "metadata": {},
   "outputs": [],
   "source": [
    "action = np.random.uniform(-1, 1, size=env.action_space.shape).astype(np.float32)\n",
    "env.reset()\n",
    "env.do_simulation(\n",
    "    ctrl=action,\n",
    "    n_frames=5\n",
    ")"
   ]
  },
  {
   "cell_type": "code",
   "execution_count": 16,
   "id": "4c7c2db8-3e06-4548-b469-8e55a5b4e3f4",
   "metadata": {},
   "outputs": [
    {
     "data": {
      "text/plain": [
       "<_MjDataSensorViews\n",
       "  data: array([ 9.99999509e-01, -1.81743122e-04,  9.73743986e-04,  4.21343650e-05])\n",
       "  id: 36\n",
       "  name: 'imu_quat'\n",
       ">"
      ]
     },
     "execution_count": 16,
     "metadata": {},
     "output_type": "execute_result"
    }
   ],
   "source": [
    "# env.action_space\n",
    "\n",
    "len(env.data.qpos)\n",
    "\n",
    "env.data.sensor(\"imu_quat\")"
   ]
  }
 ],
 "metadata": {
  "kernelspec": {
   "display_name": "Python 3 (ipykernel)",
   "language": "python",
   "name": "python3"
  },
  "language_info": {
   "codemirror_mode": {
    "name": "ipython",
    "version": 3
   },
   "file_extension": ".py",
   "mimetype": "text/x-python",
   "name": "python",
   "nbconvert_exporter": "python",
   "pygments_lexer": "ipython3",
   "version": "3.10.18"
  }
 },
 "nbformat": 4,
 "nbformat_minor": 5
}
