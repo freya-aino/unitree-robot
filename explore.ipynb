{
 "cells": [
  {
   "cell_type": "code",
   "execution_count": 1,
   "id": "f53869eb-1330-4c72-ad47-3860d9706347",
   "metadata": {
    "jupyter": {
     "is_executing": true
    },
    "scrolled": true
   },
   "outputs": [],
   "source": [
    "import numpy as np\n",
    "import torch as T\n",
    "import mlflow\n",
    "import os\n",
    "\n",
    "from unitree_robot.train.environments import Go2Env, MujocoEnv\n",
    "from unitree_robot.train.training import Trainer\n",
    "from unitree_robot.train.experiments import StandUpExperiment\n",
    "\n",
    "\n",
    "\n",
    "MJCF_PATH = \"./external/unitree_mj_models/go2/scene.xml\"\n",
    "SEED = 0\n",
    "DEVICE = \"cuda:0\"\n",
    "BODY_ANGLE_REWARD_SCALE = 1.0\n",
    "BODY_HEIGHT_REWARD_SCALE = 1.0\n",
    "ENERGY_REWARD_SCALE = 1.0\n",
    "JOINT_LIMIT_REWARD_SCALE = 1.0\n",
    "REWARD_SCALING = 1.0\n",
    "ENTROPY_COST = 8e-3\n",
    "DISCOUNTING = .97\n",
    "\n",
    "SIM_FRAMES_PER_STEP = 5 # number of frames that are simulated between each 'decision step' by the network\n",
    "TRAIN_EPOCHS = 5000\n",
    "LEARNING_RATE = 3e-3\n",
    "\n",
    "NETWORK_HIDDEN_SIZE = 16\n",
    "NETWORK_LAYERS = 4\n",
    "UNROLL_LENGTH = 128 # number of actions taken in the environment (inbetween these actions there are SIM_FRAMES_PER_STEP steps of simulation)\n",
    "NUM_UNROLLS = 4 # number of full unrolls to collect training samples\n",
    "MINIBATCH_SIZE = 32 # the sequence length that is trained on (UNROLL_LENGTH has to be divisible by this number)\n",
    "TRAIN_BATCH_SIZE = 8 # the number of sequences that are used for a single training step (all batches are used in one epoch)\n",
    "\n",
    "EXPERIMENT_NAME = \"standing_up\""
   ]
  },
  {
   "cell_type": "code",
   "execution_count": 2,
   "id": "0abfd262-553c-4e46-9b26-bdea3763b4d4",
   "metadata": {},
   "outputs": [
    {
     "name": "stdout",
     "output_type": "stream",
     "text": [
      "Trainer: device set to gpu (cuda) !\n"
     ]
    }
   ],
   "source": [
    "np.random.seed(seed=SEED)\n",
    "\n",
    "experiment=StandUpExperiment(\n",
    "    body_name = \"base_link\",\n",
    "    body_angle_reward_scale = BODY_ANGLE_REWARD_SCALE,\n",
    "    body_height_reward_scale = BODY_HEIGHT_REWARD_SCALE,\n",
    "    energy_reward_scale = ENERGY_REWARD_SCALE,\n",
    "    # joint_limit_reward_scale = JOINT_LIMIT_REWARD_SCALE\n",
    ")\n",
    "\n",
    "env = Go2Env(\n",
    "    model_path = MJCF_PATH,\n",
    "    sim_frames_per_step = SIM_FRAMES_PER_STEP\n",
    ")\n",
    "\n",
    "\n",
    "trainer = Trainer(\n",
    "    env=env,\n",
    "    experiment=experiment,\n",
    "    device=DEVICE,\n",
    "    network_hidden_size=NETWORK_HIDDEN_SIZE,\n",
    "    network_layers=NETWORK_LAYERS,\n",
    "    learning_rate=LEARNING_RATE,\n",
    "    reward_scaling=REWARD_SCALING,\n",
    "    entropy_cost=ENTROPY_COST,\n",
    "    discounting=DISCOUNTING\n",
    ")"
   ]
  },
  {
   "cell_type": "code",
   "execution_count": 3,
   "id": "e1e27b19-5ead-4518-8fd4-c3d6f29fffde",
   "metadata": {
    "scrolled": true
   },
   "outputs": [
    {
     "name": "stderr",
     "output_type": "stream",
     "text": [
      "training:   0%|                                                                                                                            | 0/5000 [00:04<?, ?it/s]\n"
     ]
    },
    {
     "ename": "RuntimeError",
     "evalue": "The size of tensor a (3) must match the size of tensor b (24) at non-singleton dimension 2",
     "output_type": "error",
     "traceback": [
      "\u001b[1;31m---------------------------------------------------------------------------\u001b[0m",
      "\u001b[1;31mRuntimeError\u001b[0m                              Traceback (most recent call last)",
      "Cell \u001b[1;32mIn[3], line 7\u001b[0m\n\u001b[0;32m      3\u001b[0m mlflow\u001b[38;5;241m.\u001b[39mset_experiment(EXPERIMENT_NAME)\n\u001b[0;32m      6\u001b[0m \u001b[38;5;28;01mwith\u001b[39;00m mlflow\u001b[38;5;241m.\u001b[39mstart_run():\n\u001b[1;32m----> 7\u001b[0m     \u001b[43mtrainer\u001b[49m\u001b[38;5;241;43m.\u001b[39;49m\u001b[43mtrain\u001b[49m\u001b[43m(\u001b[49m\n\u001b[0;32m      8\u001b[0m \u001b[43m        \u001b[49m\u001b[43mepochs\u001b[49m\u001b[38;5;241;43m=\u001b[39;49m\u001b[43mTRAIN_EPOCHS\u001b[49m\u001b[43m,\u001b[49m\n\u001b[0;32m      9\u001b[0m \u001b[43m        \u001b[49m\u001b[43munroll_length\u001b[49m\u001b[38;5;241;43m=\u001b[39;49m\u001b[43mUNROLL_LENGTH\u001b[49m\u001b[43m,\u001b[49m\n\u001b[0;32m     10\u001b[0m \u001b[43m        \u001b[49m\u001b[43mnum_unrolls\u001b[49m\u001b[38;5;241;43m=\u001b[39;49m\u001b[43mNUM_UNROLLS\u001b[49m\u001b[43m,\u001b[49m\n\u001b[0;32m     11\u001b[0m \u001b[43m        \u001b[49m\u001b[43mminibatch_size\u001b[49m\u001b[38;5;241;43m=\u001b[39;49m\u001b[43mMINIBATCH_SIZE\u001b[49m\u001b[43m,\u001b[49m\n\u001b[0;32m     12\u001b[0m \u001b[43m        \u001b[49m\u001b[43mtrain_batch_size\u001b[49m\u001b[38;5;241;43m=\u001b[39;49m\u001b[43mTRAIN_BATCH_SIZE\u001b[49m\u001b[43m,\u001b[49m\n\u001b[0;32m     13\u001b[0m \u001b[43m        \u001b[49m\u001b[43mseed\u001b[49m\u001b[38;5;241;43m=\u001b[39;49m\u001b[43mSEED\u001b[49m\n\u001b[0;32m     14\u001b[0m \u001b[43m    \u001b[49m\u001b[43m)\u001b[49m\n",
      "File \u001b[1;32mC:\\programming\\unitree-robot\\unitree_robot\\train\\training.py:180\u001b[0m, in \u001b[0;36mTrainer.train\u001b[1;34m(self, epochs, train_batch_size, num_unrolls, unroll_length, minibatch_size, seed)\u001b[0m\n\u001b[0;32m    173\u001b[0m loss_averages \u001b[38;5;241m=\u001b[39m {\n\u001b[0;32m    174\u001b[0m     \u001b[38;5;124m\"\u001b[39m\u001b[38;5;124mpolicy_loss\u001b[39m\u001b[38;5;124m\"\u001b[39m: \u001b[38;5;241m0\u001b[39m,\n\u001b[0;32m    175\u001b[0m     \u001b[38;5;124m\"\u001b[39m\u001b[38;5;124mvalue_loss\u001b[39m\u001b[38;5;124m\"\u001b[39m: \u001b[38;5;241m0\u001b[39m,\n\u001b[0;32m    176\u001b[0m     \u001b[38;5;124m\"\u001b[39m\u001b[38;5;124mentropy_loss\u001b[39m\u001b[38;5;124m\"\u001b[39m: \u001b[38;5;241m0\u001b[39m,\n\u001b[0;32m    177\u001b[0m     \u001b[38;5;124m\"\u001b[39m\u001b[38;5;124mmean_loss\u001b[39m\u001b[38;5;124m\"\u001b[39m: \u001b[38;5;241m0\u001b[39m,\n\u001b[0;32m    178\u001b[0m }\n\u001b[0;32m    179\u001b[0m \u001b[38;5;28;01mfor\u001b[39;00m i, batch \u001b[38;5;129;01min\u001b[39;00m \u001b[38;5;28menumerate\u001b[39m(dataloader):\n\u001b[1;32m--> 180\u001b[0m     losses \u001b[38;5;241m=\u001b[39m \u001b[38;5;28;43mself\u001b[39;49m\u001b[38;5;241;43m.\u001b[39;49m\u001b[43magent\u001b[49m\u001b[43m(\u001b[49m\n\u001b[0;32m    181\u001b[0m \u001b[43m        \u001b[49m\u001b[43mobservation\u001b[49m\u001b[38;5;241;43m=\u001b[39;49m\u001b[43mbatch\u001b[49m\u001b[43m[\u001b[49m\u001b[38;5;124;43m\"\u001b[39;49m\u001b[38;5;124;43mobservation\u001b[39;49m\u001b[38;5;124;43m\"\u001b[39;49m\u001b[43m]\u001b[49m\u001b[43m,\u001b[49m\n\u001b[0;32m    182\u001b[0m \u001b[43m        \u001b[49m\u001b[43mlogits\u001b[49m\u001b[38;5;241;43m=\u001b[39;49m\u001b[43mbatch\u001b[49m\u001b[43m[\u001b[49m\u001b[38;5;124;43m\"\u001b[39;49m\u001b[38;5;124;43mlogits\u001b[39;49m\u001b[38;5;124;43m\"\u001b[39;49m\u001b[43m]\u001b[49m\u001b[43m,\u001b[49m\n\u001b[0;32m    183\u001b[0m \u001b[43m        \u001b[49m\u001b[43maction\u001b[49m\u001b[38;5;241;43m=\u001b[39;49m\u001b[43mbatch\u001b[49m\u001b[43m[\u001b[49m\u001b[38;5;124;43m\"\u001b[39;49m\u001b[38;5;124;43maction\u001b[39;49m\u001b[38;5;124;43m\"\u001b[39;49m\u001b[43m]\u001b[49m\u001b[43m,\u001b[49m\n\u001b[0;32m    184\u001b[0m \u001b[43m        \u001b[49m\u001b[43mreward\u001b[49m\u001b[38;5;241;43m=\u001b[39;49m\u001b[43mbatch\u001b[49m\u001b[43m[\u001b[49m\u001b[38;5;124;43m\"\u001b[39;49m\u001b[38;5;124;43mreward\u001b[39;49m\u001b[38;5;124;43m\"\u001b[39;49m\u001b[43m]\u001b[49m\u001b[43m,\u001b[49m\n\u001b[0;32m    185\u001b[0m \u001b[43m    \u001b[49m\u001b[43m)\u001b[49m\n\u001b[0;32m    187\u001b[0m     \u001b[38;5;66;03m# sum loss\u001b[39;00m\n\u001b[0;32m    188\u001b[0m     loss \u001b[38;5;241m=\u001b[39m losses[\u001b[38;5;124m\"\u001b[39m\u001b[38;5;124mpolicy_loss\u001b[39m\u001b[38;5;124m\"\u001b[39m] \u001b[38;5;241m+\u001b[39m losses[\u001b[38;5;124m\"\u001b[39m\u001b[38;5;124mvalue_loss\u001b[39m\u001b[38;5;124m\"\u001b[39m] \u001b[38;5;241m+\u001b[39m losses[\u001b[38;5;124m\"\u001b[39m\u001b[38;5;124mentropy_loss\u001b[39m\u001b[38;5;124m\"\u001b[39m]\n",
      "File \u001b[1;32mC:\\programming\\unitree-robot\\.venv-gym\\lib\\site-packages\\torch\\nn\\modules\\module.py:1775\u001b[0m, in \u001b[0;36mModule._wrapped_call_impl\u001b[1;34m(self, *args, **kwargs)\u001b[0m\n\u001b[0;32m   1773\u001b[0m     \u001b[38;5;28;01mreturn\u001b[39;00m \u001b[38;5;28mself\u001b[39m\u001b[38;5;241m.\u001b[39m_compiled_call_impl(\u001b[38;5;241m*\u001b[39margs, \u001b[38;5;241m*\u001b[39m\u001b[38;5;241m*\u001b[39mkwargs)  \u001b[38;5;66;03m# type: ignore[misc]\u001b[39;00m\n\u001b[0;32m   1774\u001b[0m \u001b[38;5;28;01melse\u001b[39;00m:\n\u001b[1;32m-> 1775\u001b[0m     \u001b[38;5;28;01mreturn\u001b[39;00m \u001b[38;5;28mself\u001b[39m\u001b[38;5;241m.\u001b[39m_call_impl(\u001b[38;5;241m*\u001b[39margs, \u001b[38;5;241m*\u001b[39m\u001b[38;5;241m*\u001b[39mkwargs)\n",
      "File \u001b[1;32mC:\\programming\\unitree-robot\\.venv-gym\\lib\\site-packages\\torch\\nn\\modules\\module.py:1786\u001b[0m, in \u001b[0;36mModule._call_impl\u001b[1;34m(self, *args, **kwargs)\u001b[0m\n\u001b[0;32m   1781\u001b[0m \u001b[38;5;66;03m# If we don't have any hooks, we want to skip the rest of the logic in\u001b[39;00m\n\u001b[0;32m   1782\u001b[0m \u001b[38;5;66;03m# this function, and just call forward.\u001b[39;00m\n\u001b[0;32m   1783\u001b[0m \u001b[38;5;28;01mif\u001b[39;00m \u001b[38;5;129;01mnot\u001b[39;00m (\u001b[38;5;28mself\u001b[39m\u001b[38;5;241m.\u001b[39m_backward_hooks \u001b[38;5;129;01mor\u001b[39;00m \u001b[38;5;28mself\u001b[39m\u001b[38;5;241m.\u001b[39m_backward_pre_hooks \u001b[38;5;129;01mor\u001b[39;00m \u001b[38;5;28mself\u001b[39m\u001b[38;5;241m.\u001b[39m_forward_hooks \u001b[38;5;129;01mor\u001b[39;00m \u001b[38;5;28mself\u001b[39m\u001b[38;5;241m.\u001b[39m_forward_pre_hooks\n\u001b[0;32m   1784\u001b[0m         \u001b[38;5;129;01mor\u001b[39;00m _global_backward_pre_hooks \u001b[38;5;129;01mor\u001b[39;00m _global_backward_hooks\n\u001b[0;32m   1785\u001b[0m         \u001b[38;5;129;01mor\u001b[39;00m _global_forward_hooks \u001b[38;5;129;01mor\u001b[39;00m _global_forward_pre_hooks):\n\u001b[1;32m-> 1786\u001b[0m     \u001b[38;5;28;01mreturn\u001b[39;00m forward_call(\u001b[38;5;241m*\u001b[39margs, \u001b[38;5;241m*\u001b[39m\u001b[38;5;241m*\u001b[39mkwargs)\n\u001b[0;32m   1788\u001b[0m result \u001b[38;5;241m=\u001b[39m \u001b[38;5;28;01mNone\u001b[39;00m\n\u001b[0;32m   1789\u001b[0m called_always_called_hooks \u001b[38;5;241m=\u001b[39m \u001b[38;5;28mset\u001b[39m()\n",
      "File \u001b[1;32mC:\\programming\\unitree-robot\\unitree_robot\\train\\agents.py:205\u001b[0m, in \u001b[0;36mPPOAgent.forward\u001b[1;34m(self, observation, logits, action, reward)\u001b[0m\n\u001b[0;32m    201\u001b[0m \u001b[38;5;66;03m# print(f\"behaviour_action_log_probs shape: {behaviour_action_log_probs.shape}\")\u001b[39;00m\n\u001b[0;32m    202\u001b[0m \u001b[38;5;66;03m# print(f\"target_action_log_probs shape: {target_action_log_probs.shape}\")\u001b[39;00m\n\u001b[0;32m    204\u001b[0m \u001b[38;5;28;01mwith\u001b[39;00m T\u001b[38;5;241m.\u001b[39mno_grad():\n\u001b[1;32m--> 205\u001b[0m     vs, advantages \u001b[38;5;241m=\u001b[39m \u001b[38;5;28;43mself\u001b[39;49m\u001b[38;5;241;43m.\u001b[39;49m\u001b[43mcompute_gae\u001b[49m\u001b[43m(\u001b[49m\n\u001b[0;32m    206\u001b[0m \u001b[43m        \u001b[49m\u001b[38;5;66;43;03m# truncation=unroll_data.truncation,\u001b[39;49;00m\n\u001b[0;32m    207\u001b[0m \u001b[43m        \u001b[49m\u001b[38;5;66;43;03m# termination=termination,\u001b[39;49;00m\n\u001b[0;32m    208\u001b[0m \u001b[43m        \u001b[49m\u001b[43mrewards\u001b[49m\u001b[38;5;241;43m=\u001b[39;49m\u001b[43mreward\u001b[49m\u001b[43m,\u001b[49m\n\u001b[0;32m    209\u001b[0m \u001b[43m        \u001b[49m\u001b[43mvalues\u001b[49m\u001b[38;5;241;43m=\u001b[39;49m\u001b[43mvalue_baseline\u001b[49m\u001b[43m,\u001b[49m\n\u001b[0;32m    210\u001b[0m \u001b[43m        \u001b[49m\u001b[43mbootstrap_value\u001b[49m\u001b[38;5;241;43m=\u001b[39;49m\u001b[43mbootstrap_value\u001b[49m\n\u001b[0;32m    211\u001b[0m \u001b[43m    \u001b[49m\u001b[43m)\u001b[49m\n\u001b[0;32m    213\u001b[0m \u001b[38;5;66;03m# vs = vs.sum(dim=-1)\u001b[39;00m\n\u001b[0;32m    214\u001b[0m advantages \u001b[38;5;241m=\u001b[39m advantages\u001b[38;5;241m.\u001b[39msum(dim\u001b[38;5;241m=\u001b[39m\u001b[38;5;241m-\u001b[39m\u001b[38;5;241m1\u001b[39m)\n",
      "File \u001b[1;32mC:\\programming\\unitree-robot\\unitree_robot\\train\\agents.py:121\u001b[0m, in \u001b[0;36mPPOAgent.compute_gae\u001b[1;34m(self, rewards, values, bootstrap_value)\u001b[0m\n\u001b[0;32m    119\u001b[0m \u001b[38;5;66;03m# calculate deltas from values to rewards\u001b[39;00m\n\u001b[0;32m    120\u001b[0m discounted_value \u001b[38;5;241m=\u001b[39m \u001b[38;5;28mself\u001b[39m\u001b[38;5;241m.\u001b[39mdiscounting \u001b[38;5;241m*\u001b[39m values_t_plus_1\n\u001b[1;32m--> 121\u001b[0m deltas \u001b[38;5;241m=\u001b[39m \u001b[43mrewards\u001b[49m\u001b[43m \u001b[49m\u001b[38;5;241;43m+\u001b[39;49m\u001b[43m \u001b[49m\u001b[43mdiscounted_value\u001b[49m \u001b[38;5;241m-\u001b[39m values\n\u001b[0;32m    123\u001b[0m \u001b[38;5;66;03m# calculate discounted deltas\u001b[39;00m\n\u001b[0;32m    124\u001b[0m powers \u001b[38;5;241m=\u001b[39m (T\u001b[38;5;241m.\u001b[39marange(sequence_length)\u001b[38;5;241m.\u001b[39munsqueeze(\u001b[38;5;241m0\u001b[39m) \u001b[38;5;241m-\u001b[39m T\u001b[38;5;241m.\u001b[39marange(sequence_length)\u001b[38;5;241m.\u001b[39munsqueeze(\u001b[38;5;241m1\u001b[39m))\u001b[38;5;241m.\u001b[39mto(device\u001b[38;5;241m=\u001b[39m\u001b[38;5;28mself\u001b[39m\u001b[38;5;241m.\u001b[39mdevice)\n",
      "\u001b[1;31mRuntimeError\u001b[0m: The size of tensor a (3) must match the size of tensor b (24) at non-singleton dimension 2"
     ]
    }
   ],
   "source": [
    "if not mlflow.get_experiment_by_name(EXPERIMENT_NAME):\n",
    "    mlflow.create_experiment(EXPERIMENT_NAME)\n",
    "mlflow.set_experiment(EXPERIMENT_NAME)\n",
    "\n",
    "\n",
    "with mlflow.start_run():\n",
    "    trainer.train(\n",
    "        epochs=TRAIN_EPOCHS,\n",
    "        unroll_length=UNROLL_LENGTH,\n",
    "        num_unrolls=NUM_UNROLLS,\n",
    "        minibatch_size=MINIBATCH_SIZE,\n",
    "        train_batch_size=TRAIN_BATCH_SIZE,\n",
    "        seed=SEED\n",
    "    )"
   ]
  },
  {
   "cell_type": "markdown",
   "id": "4c7e27ff-a6fa-40a9-a8c5-73bb9d98ad7f",
   "metadata": {},
   "source": [
    "---"
   ]
  },
  {
   "cell_type": "markdown",
   "id": "91355208-154e-4640-9ba0-12d8d9a520aa",
   "metadata": {},
   "source": [
    "---"
   ]
  },
  {
   "cell_type": "markdown",
   "id": "362abaed-4616-4967-9922-98352c079499",
   "metadata": {},
   "source": [
    "# Visualization"
   ]
  },
  {
   "cell_type": "code",
   "execution_count": 1,
   "id": "f13ef4cf-a2b2-468e-83c7-7408bcb7ca29",
   "metadata": {
    "scrolled": true
   },
   "outputs": [
    {
     "ename": "NameError",
     "evalue": "name 'np' is not defined",
     "output_type": "error",
     "traceback": [
      "\u001b[1;31m---------------------------------------------------------------------------\u001b[0m",
      "\u001b[1;31mNameError\u001b[0m                                 Traceback (most recent call last)",
      "Cell \u001b[1;32mIn[1], line 1\u001b[0m\n\u001b[1;32m----> 1\u001b[0m env\u001b[38;5;241m.\u001b[39mmodel\u001b[38;5;241m.\u001b[39mcamera(\u001b[38;5;124m\"\u001b[39m\u001b[38;5;124mmain\u001b[39m\u001b[38;5;124m\"\u001b[39m)\u001b[38;5;241m.\u001b[39mpos \u001b[38;5;241m=\u001b[39m \u001b[43mnp\u001b[49m\u001b[38;5;241m.\u001b[39marray([\u001b[38;5;241m1\u001b[39m, \u001b[38;5;241m1\u001b[39m, \u001b[38;5;241m3\u001b[39m])\n\u001b[0;32m      3\u001b[0m \u001b[38;5;28;01mtry\u001b[39;00m:\n\u001b[0;32m      4\u001b[0m     i \u001b[38;5;241m=\u001b[39m \u001b[38;5;241m0\u001b[39m\n",
      "\u001b[1;31mNameError\u001b[0m: name 'np' is not defined"
     ]
    }
   ],
   "source": [
    "env.model.camera(\"main\").pos = np.array([1, 1, 3])\n",
    "\n",
    "try:\n",
    "    i = 0\n",
    "    while True:\n",
    "        \n",
    "        action = env.action_space.sample()\n",
    "        env.do_simulation(ctrl=action, n_frames=5)\n",
    "\n",
    "        env.render(cam_offset=np.array([1,1,5]))\n",
    "\n",
    "        # print(env.data.qfrc_actuator)\n",
    "       \n",
    "        # print(r.as_euler(\"xyz\", degrees=True))\n",
    "        print(calc_angle(env.data.body(\"base\").xquat))\n",
    "        \n",
    "        i += 1\n",
    "        \n",
    "except Exception as e:\n",
    "    raise e\n",
    "finally:\n",
    "    env.close()"
   ]
  },
  {
   "cell_type": "code",
   "execution_count": null,
   "id": "78f5c6db-c417-4f9d-adb6-6397db011c89",
   "metadata": {},
   "outputs": [],
   "source": []
  },
  {
   "cell_type": "code",
   "execution_count": 9,
   "id": "e6460ad1-5960-49fe-b146-6e85ab55eed0",
   "metadata": {},
   "outputs": [
    {
     "data": {
      "text/plain": [
       "<mujoco._structs.MjData at 0x2b5a63c05b0>"
      ]
     },
     "execution_count": 9,
     "metadata": {},
     "output_type": "execute_result"
    }
   ],
   "source": [
    "from unitree_robot.train.environments import lookat\n",
    "\n",
    "\n",
    "target = env.data.cam(\"main\").xpos + np.array([0, 0, -1])\n",
    "target\n",
    "\n",
    "# lookat(env.data.cam(\"main\").xpos, target)\n"
   ]
  },
  {
   "cell_type": "code",
   "execution_count": 2,
   "id": "4c7c2db8-3e06-4548-b469-8e55a5b4e3f4",
   "metadata": {},
   "outputs": [],
   "source": [
    "# env.action_space\n",
    "\n",
    "# len(env.data.qpos)\n",
    "\n",
    "# env.data.(\"imu_quat\")\n",
    "\n",
    "\n",
    "# q_rotate = quaternion.as_quat_array(env.data.sensor(\"imu_quat\").data)\n",
    "# quaternion.rotate_vectors(q_rotate, np.array([0,0,1]))\n",
    "# (np.array([1, 0, 0]))\n",
    "\n",
    "\n",
    "\n",
    "\n",
    "# env.get_sensor_state()\n",
    "\n",
    "# env.data.xquat.shape"
   ]
  }
 ],
 "metadata": {
  "kernelspec": {
   "display_name": "Python 3 (ipykernel)",
   "language": "python",
   "name": "python3"
  },
  "language_info": {
   "codemirror_mode": {
    "name": "ipython",
    "version": 3
   },
   "file_extension": ".py",
   "mimetype": "text/x-python",
   "name": "python",
   "nbconvert_exporter": "python",
   "pygments_lexer": "ipython3",
   "version": "3.10.18"
  }
 },
 "nbformat": 4,
 "nbformat_minor": 5
}
